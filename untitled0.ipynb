{
  "nbformat": 4,
  "nbformat_minor": 0,
  "metadata": {
    "colab": {
      "provenance": [],
      "authorship_tag": "ABX9TyN70ra+xDvZWCyhVdiWH9MJ",
      "include_colab_link": true
    },
    "kernelspec": {
      "name": "python3",
      "display_name": "Python 3"
    },
    "language_info": {
      "name": "python"
    }
  },
  "cells": [
    {
      "cell_type": "markdown",
      "metadata": {
        "id": "view-in-github",
        "colab_type": "text"
      },
      "source": [
        "<a href=\"https://colab.research.google.com/github/Lubylene/python/blob/main/untitled0.ipynb\" target=\"_parent\"><img src=\"https://colab.research.google.com/assets/colab-badge.svg\" alt=\"Open In Colab\"/></a>"
      ]
    },
    {
      "cell_type": "markdown",
      "source": [
        "#**Aula** 1   🪻 🍇 👒"
      ],
      "metadata": {
        "id": "bj_x8b2hy-g2"
      }
    },
    {
      "cell_type": "code",
      "execution_count": null,
      "metadata": {
        "colab": {
          "base_uri": "https://localhost:8080/"
        },
        "id": "Vz5Sj0ByxRKE",
        "outputId": "912c6281-3cd5-41f5-9039-c4d16f38066b"
      },
      "outputs": [
        {
          "output_type": "stream",
          "name": "stdout",
          "text": [
            "I competição de programação dá Start\n",
            "IX competição de programação da Start\n",
            "IX competição de programação da Start\n"
          ]
        }
      ],
      "source": [
        "print(\"I competição de programação dá Start\")\n",
        "ano = \"IX\"\n",
        "print(ano, \"competição de programação da Start\")\n",
        "print(f\"{ano} competição de programação da Start\")"
      ]
    },
    {
      "cell_type": "markdown",
      "source": [
        "#**Aula** 2 🎀 🪞 ✨"
      ],
      "metadata": {
        "id": "lPTyDeEb08bL"
      }
    },
    {
      "cell_type": "code",
      "source": [
        "livro_ficcao = 8\n",
        "livro_n_ficcao = 10\n",
        "livro_infantil = 6\n",
        "pontos_rodrigo = livro_ficcao + livro_n_ficcao + livro_infantil\n",
        "print(f\"Os pontos totais do Rodrigo são {pontos_rodrigo}\")"
      ],
      "metadata": {
        "id": "yEAIVoVd0-fy",
        "colab": {
          "base_uri": "https://localhost:8080/"
        },
        "outputId": "e2f47ad1-2cf5-44f4-a267-5272175b5e3b"
      },
      "execution_count": null,
      "outputs": [
        {
          "output_type": "stream",
          "name": "stdout",
          "text": [
            "Os pontos totais do Rodrigo são 24\n"
          ]
        }
      ]
    },
    {
      "cell_type": "markdown",
      "source": [
        "#**Aula** 3      ⛪  💜 🏕"
      ],
      "metadata": {
        "id": "L0FABzzWurqY"
      }
    },
    {
      "cell_type": "code",
      "source": [
        "numero_de_alunos = int(input(\"Digite a quantidade de alunos: \"))\n",
        "numero_de_monitores = int(input(\"Digite a quantidade de monitores: \"))\n",
        "numero_professores = int(input(\"Digite a quantidade de profesores: \"))\n",
        "if numero_de_alunos + numero_de_monitores + numero_professores <= 50:\n",
        "  resposta_positiva = \"pode ir\"\n",
        "resposta_negativa = \"não pode ir\"\n",
        "if numero_de_alunos + numero_de_monitores + numero_professores <= 50:\n",
        " print(resposta_positiva)\n",
        "else:\n",
        " print(resposta_negativa)"
      ],
      "metadata": {
        "colab": {
          "base_uri": "https://localhost:8080/"
        },
        "id": "gjymAUhXwNLY",
        "outputId": "8ae532ba-6ac3-4eb8-a94a-e3692bdfb797"
      },
      "execution_count": null,
      "outputs": [
        {
          "output_type": "stream",
          "name": "stdout",
          "text": [
            "Digite a quantidade de alunos: 40\n",
            "Digite a quantidade de monitores: 5\n",
            "Digite a quantidade de profesores: 5\n",
            "pode ir\n"
          ]
        }
      ]
    },
    {
      "cell_type": "markdown",
      "source": [
        "#**Aula** 4 🧖🏻‍♀️ 🫧 🧴"
      ],
      "metadata": {
        "id": "_b14Sjkc2UIM"
      }
    },
    {
      "cell_type": "code",
      "source": [
        "P = int(input(\"Digite a posição da porta P (0 ou 1): \"))\n",
        "R = int(input(\"Digite a posição da porta R (0 ou 1): \"))\n",
        "if P == 0:\n",
        "    print(\"C\")\n",
        "elif R == 1:\n",
        "    print(\"A\")\n",
        "else:\n",
        "    print(\"B\")\n"
      ],
      "metadata": {
        "colab": {
          "base_uri": "https://localhost:8080/"
        },
        "id": "awiHeVae2YrE",
        "outputId": "382527f0-f5f2-4b82-d72f-6f31aa2217c1"
      },
      "execution_count": null,
      "outputs": [
        {
          "output_type": "stream",
          "name": "stdout",
          "text": [
            "Digite a posição da porta P (0 ou 1): 1\n",
            "Digite a posição da porta R (0 ou 1): 0\n",
            "B\n"
          ]
        }
      ]
    },
    {
      "cell_type": "markdown",
      "source": [
        "#**Aula** 5  👩‍🍳 🍰 🍔 tabuada\n"
      ],
      "metadata": {
        "id": "fGLx9smq6teD"
      }
    },
    {
      "cell_type": "code",
      "source": [
        "def tabuada(numero):\n",
        "    for contador in range(1, 11):  # Gera números de 1 a 10\n",
        "        print(f\"{numero} x {contador} = {numero * contador}\")\n",
        "numero = int(input(\"Digite um número para ver sua tabuada: \"))\n",
        "tabuada(numero)"
      ],
      "metadata": {
        "colab": {
          "base_uri": "https://localhost:8080/"
        },
        "id": "tvZdICfG72Ch",
        "outputId": "6dda1a2c-32f1-454d-dc35-fa02d84b4517"
      },
      "execution_count": null,
      "outputs": [
        {
          "output_type": "stream",
          "name": "stdout",
          "text": [
            "Digite um número para ver sua tabuada: 125\n",
            "125 x 1 = 125\n",
            "125 x 2 = 250\n",
            "125 x 3 = 375\n",
            "125 x 4 = 500\n",
            "125 x 5 = 625\n",
            "125 x 6 = 750\n",
            "125 x 7 = 875\n",
            "125 x 8 = 1000\n",
            "125 x 9 = 1125\n",
            "125 x 10 = 1250\n"
          ]
        }
      ]
    },
    {
      "cell_type": "markdown",
      "source": [
        "#**Aula** 6 💪🏼 🏋🏻‍♀️ 🔋 IMC"
      ],
      "metadata": {
        "id": "uF5qRTFl85_X"
      }
    },
    {
      "cell_type": "code",
      "source": [
        "peso = float(input(\"Digite seu peso (em kg): \"))\n",
        "altura = float(input(\"Digite sua altura (em metros): \"))\n",
        "imc = peso / (altura ** 2)\n",
        "print(f\"\\nSeu IMC é: {imc:.2f}\")\n",
        "if imc < 18.5:\n",
        "    print(\"Você está abaixo do peso.\")\n",
        "elif 18.5 <= imc < 25:\n",
        "    print(\"Você está no peso ideal.\")\n",
        "elif 25 <= imc < 30:\n",
        "    print(\"Você está com sobrepeso.\")\n",
        "else:\n",
        "    print(\"Você está acima do peso.\")"
      ],
      "metadata": {
        "id": "JgJEdmbH9BL-"
      },
      "execution_count": null,
      "outputs": []
    },
    {
      "cell_type": "markdown",
      "source": [
        "#**Aula** 7 🍓 🍉 🍇"
      ],
      "metadata": {
        "id": "A7m1RqWu2aX5"
      }
    },
    {
      "cell_type": "code",
      "source": [
        "print(\"sou seu assintente virtual, como posso ajudar? \\n\")\n",
        "nome = input(\"digite seu nome: \")\n",
        "print (\"Olá, \" + nome + \". Qual é sua dúvida hoje?\" )"
      ],
      "metadata": {
        "colab": {
          "base_uri": "https://localhost:8080/"
        },
        "id": "4On2KH512ffI",
        "outputId": "5083cd1f-d15c-4b14-94f0-4db0f40ca28b"
      },
      "execution_count": null,
      "outputs": [
        {
          "output_type": "stream",
          "name": "stdout",
          "text": [
            "sou seu assintente virtual, como posso ajudar? \n",
            "\n",
            "digite seu nome: Lubya\n",
            "Olá, Lubya. Qual é sua dúvida hoje?\n"
          ]
        }
      ]
    },
    {
      "cell_type": "code",
      "source": [
        "print(\"sou seu assintente virtual, como posso ajudar? \\n\")\n",
        "nome = input(\"digite seu nome: \")\n",
        "print (f\"Olá, {nome}. Qual é sua dúvida hoje?\" )\n",
        "resposta = input(\"Qual o assunto que deseja tratar: Matemática , Python , Javascript \")\n",
        "print(f\"Que bom, {nome}, vamos falar sobre {resposta}\")"
      ],
      "metadata": {
        "colab": {
          "base_uri": "https://localhost:8080/"
        },
        "id": "o2NCk2fW-Ugl",
        "outputId": "8eaee8a8-25f8-4390-de7f-f4099e30d994"
      },
      "execution_count": null,
      "outputs": [
        {
          "output_type": "stream",
          "name": "stdout",
          "text": [
            "sou seu assintente virtual, como posso ajudar? \n",
            "\n"
          ]
        }
      ]
    }
  ]
}