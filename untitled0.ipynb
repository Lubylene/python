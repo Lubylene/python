{
  "nbformat": 4,
  "nbformat_minor": 0,
  "metadata": {
    "colab": {
      "provenance": [],
      "toc_visible": true,
      "authorship_tag": "ABX9TyO8yOk3UgWLELAxPxCi24Dd",
      "include_colab_link": true
    },
    "kernelspec": {
      "name": "python3",
      "display_name": "Python 3"
    },
    "language_info": {
      "name": "python"
    }
  },
  "cells": [
    {
      "cell_type": "markdown",
      "metadata": {
        "id": "view-in-github",
        "colab_type": "text"
      },
      "source": [
        "<a href=\"https://colab.research.google.com/github/Lubylene/python/blob/main/untitled0.ipynb\" target=\"_parent\"><img src=\"https://colab.research.google.com/assets/colab-badge.svg\" alt=\"Open In Colab\"/></a>"
      ]
    },
    {
      "cell_type": "markdown",
      "source": [
        "#**Aula** 1   🪻 🍇 👒"
      ],
      "metadata": {
        "id": "bj_x8b2hy-g2"
      }
    },
    {
      "cell_type": "code",
      "execution_count": null,
      "metadata": {
        "colab": {
          "base_uri": "https://localhost:8080/"
        },
        "id": "Vz5Sj0ByxRKE",
        "outputId": "912c6281-3cd5-41f5-9039-c4d16f38066b"
      },
      "outputs": [
        {
          "output_type": "stream",
          "name": "stdout",
          "text": [
            "I competição de programação dá Start\n",
            "IX competição de programação da Start\n",
            "IX competição de programação da Start\n"
          ]
        }
      ],
      "source": [
        "print(\"I competição de programação dá Start\")\n",
        "ano = \"IX\"\n",
        "print(ano, \"competição de programação da Start\")\n",
        "print(f\"{ano} competição de programação da Start\")"
      ]
    },
    {
      "cell_type": "markdown",
      "source": [
        "#**Aula** 2 💄 💅 ✨"
      ],
      "metadata": {
        "id": "lPTyDeEb08bL"
      }
    },
    {
      "cell_type": "code",
      "source": [
        "livro_ficcao = 8\n",
        "livro_n_ficcao = 10\n",
        "livro_infantil = 6\n",
        "pontos_rodrigo = livro_ficcao + livro_n_ficcao + livro_infantil\n",
        "print(f\"Os pontos totais do Rodrigo são {pontos_rodrigo}\")"
      ],
      "metadata": {
        "id": "yEAIVoVd0-fy",
        "colab": {
          "base_uri": "https://localhost:8080/"
        },
        "outputId": "e2f47ad1-2cf5-44f4-a267-5272175b5e3b"
      },
      "execution_count": null,
      "outputs": [
        {
          "output_type": "stream",
          "name": "stdout",
          "text": [
            "Os pontos totais do Rodrigo são 24\n"
          ]
        }
      ]
    },
    {
      "cell_type": "markdown",
      "source": [
        "#**Aula** 3      ⛪  💜 🏕"
      ],
      "metadata": {
        "id": "L0FABzzWurqY"
      }
    },
    {
      "cell_type": "code",
      "source": [
        "numero_de_alunos = int(input(\"Digite a quantidade de alunos: \"))\n",
        "numero_de_monitores = int(input(\"Digite a quantidade de monitores: \"))\n",
        "numero_professores = int(input(\"Digite a quantidade de profesores: \"))\n",
        "if numero_de_alunos + numero_de_monitores + numero_professores <= 50:\n",
        "  resposta_positiva = \"pode ir\"\n",
        "resposta_negativa = \"não pode ir\"\n",
        "if numero_de_alunos + numero_de_monitores + numero_professores <= 50:\n",
        " print(resposta_positiva)\n",
        "else:\n",
        " print(resposta_negativa)"
      ],
      "metadata": {
        "colab": {
          "base_uri": "https://localhost:8080/"
        },
        "id": "gjymAUhXwNLY",
        "outputId": "8ae532ba-6ac3-4eb8-a94a-e3692bdfb797"
      },
      "execution_count": null,
      "outputs": [
        {
          "output_type": "stream",
          "name": "stdout",
          "text": [
            "Digite a quantidade de alunos: 40\n",
            "Digite a quantidade de monitores: 5\n",
            "Digite a quantidade de profesores: 5\n",
            "pode ir\n"
          ]
        }
      ]
    },
    {
      "cell_type": "markdown",
      "source": [
        "#**Aula** 4 🩷 🪷 🎀"
      ],
      "metadata": {
        "id": "_b14Sjkc2UIM"
      }
    },
    {
      "cell_type": "code",
      "source": [
        "P = int(input(\"Digite a posição da porta P (0 ou 1): \"))\n",
        "R = int(input(\"Digite a posição da porta R (0 ou 1): \"))\n",
        "if P == 0:\n",
        "    print(\"C\")\n",
        "elif R == 1:\n",
        "    print(\"A\")\n",
        "else:\n",
        "    print(\"B\")\n"
      ],
      "metadata": {
        "colab": {
          "base_uri": "https://localhost:8080/"
        },
        "id": "awiHeVae2YrE",
        "outputId": "382527f0-f5f2-4b82-d72f-6f31aa2217c1"
      },
      "execution_count": null,
      "outputs": [
        {
          "output_type": "stream",
          "name": "stdout",
          "text": [
            "Digite a posição da porta P (0 ou 1): 1\n",
            "Digite a posição da porta R (0 ou 1): 0\n",
            "B\n"
          ]
        }
      ]
    }
  ]
}